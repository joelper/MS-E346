{
 "cells": [
  {
   "cell_type": "markdown",
   "metadata": {},
   "source": [
    "# Write-up and code for Assignment 5 - Week 3\n",
    "\n",
    "### To do:\n",
    "- ~~Work out (in LaTeX) the equations for Absolute/Relative Risk Premia for CARA/CRRA respectively~~\n",
    "- Write the Portfolio application problem statement and solution with precise notation (in LaTeX)"
   ]
  },
  {
   "cell_type": "markdown",
   "metadata": {},
   "source": [
    "### Definition of Absolute Risk Premium\n",
    "The absolute risk-premium is defined as $\\pi_A = \\mathbb E[x] - x_{CE}$ where $x_{CE}$ is the certainty equivalent.\n",
    "### Absolute Risk Premium for CARA\n",
    "- Consider the utility function $U(x) = \\frac{-e^{-ax}}{a}$ for $a \\neq 0$.\n",
    "- We then have that the absolute risk-aversion coefficient $A(x) = \\frac{-U''(x)}{U'(x)} = a$, since $U'(x) = \\frac{ae^{-ax}}{a}$ and $U''(x) = \\frac{-a^2e^{-ax}}{a}$. Thus, this function has a Constant Absolute Risk-Aversion (CARA).\n",
    "- For $a=0$ we have $U(x) = x$, then $A(x) = 0$.\n",
    "- Let the random outcome $x$ be normally distributed with mean $\\mu$ and variance $\\sigma^2$, $x \\sim \\mathcal N(\\mu, \\sigma^2)$.\n",
    "\n",
    "To find the absolute risk premium we need to first find the certainty equivalent, which is the $x_{CE}$ that satisfies $U(x_{CE}) = E[U(x)]$.\n",
    "First we assume that $a\\neq 0$. $f(x)$ is the probability distribution function for a normal distribution with mean $\\mu$ and variance $\\sigma^2$.\n",
    "<br><br>\n",
    "$$\\begin{align}E[U(x)]& =  \\int_{-\\infty}^{\\infty}U(x)f(x)dx \\\\\n",
    "\\\\\n",
    "& = \\int_{-\\infty}^{\\infty} \\frac{-e^{-ax}}{a} \\frac{1}{\\sqrt{2\\pi\\sigma^2}}e^{-\\frac{(x-\\mu)^2}{2\\sigma^2}}dx \\\\\n",
    "\\\\\n",
    "& = -\\frac{1}{a}\\int_{-\\infty}^{\\infty} \\frac{1}{\\sqrt{2\\pi\\sigma^2}}\\exp\\big({-\\frac{(x-\\mu)^2+2a\\sigma^2x}{2\\sigma^2}}\\big)dx \\\\\n",
    "\\\\\n",
    "& = -\\frac{1}{a}\\int_{-\\infty}^{\\infty} \\frac{1}{\\sqrt{2\\pi\\sigma^2}}\\exp{\\big(-\\frac{(x-(\\mu-a\\sigma^2))^2-\\mu^2+(\\mu-a\\sigma^2)^2}{2\\sigma^2}\\big)}dx \\\\\n",
    "\\\\\n",
    "& = -\\frac{\\exp\\big({\\frac{(a\\sigma^2-\\mu)^2-\\mu^2}{2\\sigma^2}\\big)}}{a}\\int_{-\\infty}^{\\infty} \\frac{1}{\\sqrt{2\\pi\\sigma^2}}\\exp{\\big(-\\frac{(x-(\\mu-a\\sigma^2))^2}{2\\sigma^2}\\big)}dx \\\\\n",
    "\\\\\n",
    "& = -\\frac{\\exp\\big({\\frac{a^2\\sigma^2}{2}-a\\mu\\big)}}{a}\n",
    "\\end{align}$$\n",
    "\n",
    "For $a=0$ it is easy to see that $E[U(x)] = \\mu $.\n",
    "We then find that $$-\\frac{\\exp\\big({-ax_{CE}}\\big)}{a} = -\\frac{\\exp\\big({\\frac{a^2\\sigma^2}{2}-a\\mu\\big)}}{a}\\\\\n",
    "\\iff \\\\\n",
    "\\exp\\big({-ax_{CE}}\\big) = \\exp\\big({\\frac{a^2\\sigma^2}{2}-a\\mu\\big)} \\\\\n",
    "\\iff \\\\\n",
    "-ax_{CE} = \\frac{a^2\\sigma^2}{2}-a\\mu\\\\\n",
    "\\iff \\\\\n",
    "x_{CE} = \\mu-\\frac{a\\sigma^2}{2}\\\\\n",
    "$$\n",
    "Hence, $x_{CE} = \\mu - \\frac{a\\sigma^2}{2}$, for all $a$. Thus, we get that the risk premium is:\n",
    "$$\\pi_A = \\mu - x_{CE} = \\frac{a\\sigma^2}{2}$$"
   ]
  },
  {
   "cell_type": "markdown",
   "metadata": {},
   "source": [
    "### Portfolio Application of CARA\n",
    "We are given \\$1 to invest and hold for a horizon of 1 year. You can choose to invest the wealth in 1 risky asset and 1 riskless asset. The risky asset's annual return is $\\sim \\mathcal N(\\mu, \\sigma^2)$. The riskless asset has an annual return of $r$. The goal is to determine the fraction $\\pi$, which can be negative or greater than 1, that we invest in the risky asset ($1-\\pi$ in riskless) such that the portfolio has maximum utility of wealth in 1 year. With a CARA Utility $U(W) = \\frac{-\\exp(-aW)}{a}$ for $a\\neq0$, and a Portfolio Wealth $W \\sim \\mathcal N(1+r+\\pi(\\mu-r), \\pi^2\\sigma^2)$. Based on our previous finding we want to maximize the certainty equivalent: <br><br>\n",
    "$$ 1 + r + \\pi(\\mu-r) - \\frac{a\\pi^2\\sigma^2}{2}$$\n",
    "To find the maximum we take the derivative w.r.t. $\\pi$ and set it equal to 0:\n",
    "$$\\frac{\\partial}{\\partial\\pi} \\Big(1 + r + \\pi(\\mu-r) - \\frac{a\\pi^2\\sigma^2}{2}\\Big) = 0\\\\\n",
    "\\iff \\\\\n",
    "\\mu-r - a\\pi\\sigma^2 = 0\\\\\n",
    "$$\n",
    "Which then gives us\n",
    "$$\n",
    "\\pi^* = \\frac{\\mu-r}{a\\sigma^2}\\\\\n",
    "$$"
   ]
  },
  {
   "cell_type": "markdown",
   "metadata": {},
   "source": [
    "### Definition of Relative Risk Premium\n",
    "The relative risk-premium is defined as $\\pi_R = \\frac{\\pi_A}{\\mathbb E[x]} = \\frac{\\mathbb E[x] - x_{CE}}{\\mathbb E[x]} = 1 - \\frac{x_{CE}}{\\mathbb E[x]}$.\n",
    "### Relative Risk Premium for CRRA\n",
    "- Consider the utility function $U(x) = \\frac{x^{1-\\gamma}}{1-\\gamma}$ for $\\gamma \\neq 1$.\n",
    "- We then have a Relative Risk-Aversion $R(x) = \\frac{-xU''(x)}{U'(x)} = \\gamma $. This is since $U'(x) = x^{-\\gamma}$ and $U''(x) = -\\gamma x^{-1 -\\gamma}$.\n",
    "- For $\\gamma = 1$, $U(x) = log(x)$ and $R(x) = 1$.\n",
    "- To find the relative risk-premium we first need to find the certainty equivalent and the expected value of the utility function. We assume that x follows a lognormal distribution: $log(x) \\sim \\mathcal N(\\mu, \\sigma^2)$. First, assume $\\gamma \\neq 1$,<br>\n",
    "Let $y = log(x)$ which gives $x = e^y$.\n",
    "$$\\begin{align}\n",
    "\\mathbb E[U(x)] & = \\mathbb E[U(e^y)] = \\int_{-\\infty}^{\\infty}U(e^y)f(y)dy \\\\\n",
    "\\\\\n",
    "& = \\int_{-\\infty}^{\\infty} \\frac{e^{y(1-\\gamma)}}{1-\\gamma} \\frac{1}{\\sqrt{2\\pi\\sigma^2}}e^{-\\frac{(y-\\mu)^2}{2\\sigma^2}}dy \\\\\n",
    "\\\\\n",
    "& = \\frac{1}{1-\\gamma}\\int_{-\\infty}^{\\infty} \\frac{1}{\\sqrt{2\\pi\\sigma^2}}\\exp\\big(-\\frac{(y-\\mu)^2-2(1-\\gamma)\\sigma^2y}{2\\sigma^2}\\big)dy \\\\\n",
    "\\\\\n",
    "& = \\frac{\\exp\\big((1-\\gamma)\\mu + \\frac{(1-\\gamma)^2\\sigma^2}{2} \\big)}{1-\\gamma} \\int_{-\\infty}^{\\infty} \\frac{1}{\\sqrt{2\\pi\\sigma^2}}\\exp\\Big(-\\frac{\\big(y-(\\mu+(1-\\gamma)\\sigma^2\\big)^2}{2\\sigma^2}\\Big)dy \\\\\n",
    "\\\\\n",
    "& = \\frac{\\exp\\big((1-\\gamma)\\mu + \\frac{(1-\\gamma)^2\\sigma^2}{2} \\big)}{1-\\gamma}\n",
    "\\end{align}\n",
    "$$\n",
    "For $\\gamma= 1$ it is easy to see that $\\mathbb E[U(x)] = \\mu$. We then find the certainty equivalent for $\\gamma \\neq 1$, <br> <br>\n",
    "$$\n",
    "U(x_{CE}) = \\mathbb E[U(x)]\\\\\n",
    "\\iff \\\\\n",
    "\\frac{x_{CE}^{1-\\gamma}}{1-\\gamma} = \\frac{\\exp\\big((1-\\gamma)\\mu + \\frac{(1-\\gamma)^2\\sigma^2}{2} \\big)}{1-\\gamma}\\\\\n",
    "\\iff \\\\\n",
    "x_{CE}^{1-\\gamma} = \\exp\\big((1-\\gamma)\\mu + \\frac{(1-\\gamma)^2\\sigma^2}{2} \\big)\n",
    "\\iff \\\\\n",
    "x_{CE} = \\exp\\big(\\mu + \\frac{(1-\\gamma)\\sigma^2}{2} \\big)\n",
    "$$\n",
    "We can also see that the certainty equivalent when $\\gamma = 1$ has the same solution:\n",
    "$$\n",
    "U(x_{CE}) = \\mathbb E[U(x)]\\\\\n",
    "\\iff \\\\\n",
    "log(x_{CE}) = \\mu \\\\\n",
    "\\iff \\\\\n",
    "x_{CE} = e^\\mu\n",
    "$$\n",
    "We thus get that the relative risk-premium is:\n",
    "$$\n",
    "\\begin{align}\n",
    "\\pi_R & = 1 - \\frac{x_{CE}}{\\mathbb E[x]}\\\\\n",
    "& = 1 - \\frac{\\exp\\big({\\mu + \\frac{(1-\\gamma)\\sigma^2}{2}}\\big)}{\\exp{(\\mu+\\frac{\\sigma^2}{2})}} \\\\\n",
    "& = 1 - \\exp\\big(\\frac{-\\gamma\\sigma^2}{2}\\big)\n",
    "\\end{align}\n",
    "$$"
   ]
  },
  {
   "cell_type": "markdown",
   "metadata": {},
   "source": [
    "### Portfolio Application of CRRA\n",
    "Consider a single period horizon with 1 risky asset and 1 riskless asset. The riskless asset is determined by $dR_t = r \\cdot R_t\\cdot dt$, and the risky asset follows a Geometric Brownian Motion $dS_t = \\mu \\cdot S_t \\cdot dt + \\sigma \\cdot S_t \\cdot dz_t$. We are given \\$1 to invest, with continuous rebalancing for 1 year. The goal is to find the constant fraction $\\pi$ of $W_t$ to allocate to the risky asset to maximize the expected utility of wealth $W = W_1$, i.e. after 1 year. We consinuously rebalnce the portfolio to maintain the fraction $\\pi$ in the risky asset. We can express the process for our wealth $W_t$ as: <br><br>\n",
    "$$dW_t = (r+\\pi(\\mu-r))\\cdot W_t \\cdot dt + \\pi \\cdot \\sigma \\cdot W_t \\cdot dz_t $$\n",
    "<br><br>"
   ]
  },
  {
   "cell_type": "code",
   "execution_count": null,
   "metadata": {},
   "outputs": [],
   "source": []
  }
 ],
 "metadata": {
  "kernelspec": {
   "display_name": "Python 3",
   "language": "python",
   "name": "python3"
  },
  "language_info": {
   "codemirror_mode": {
    "name": "ipython",
    "version": 3
   },
   "file_extension": ".py",
   "mimetype": "text/x-python",
   "name": "python",
   "nbconvert_exporter": "python",
   "pygments_lexer": "ipython3",
   "version": "3.6.4"
  }
 },
 "nbformat": 4,
 "nbformat_minor": 2
}
