{
 "cells": [
  {
   "cell_type": "markdown",
   "metadata": {},
   "source": [
    "# Write-up and code for Jan 30\n",
    "\n",
    "## To Do\n",
    "- ~~Implement Black-Scholes formulas for European Call/Put Pricing~~\n",
    "- ~~Implement standard binary tree/grid-based numerical algorithm for American Option Pricing and ensure it validates against Black-Scholes formula for Europeans~~\n",
    "- Implement Longstaff-Schwartz Algorithm and ensure it validates against binary tree/grid-based solution for path-independent options\n",
    "- Explore/Discuss an Approximate Dynamic Programming solution as an alternative to Longstaff-Schwartz Algorithm"
   ]
  },
  {
   "cell_type": "markdown",
   "metadata": {},
   "source": [
    "## Black-Scholes formulas\n",
    "According the the Black-Scholes Equation the price of an option is described by\n",
    "$$ \n",
    "\\frac{\\partial V}{\\partial t} + \\frac{1}{2} \\sigma^2S^2\\frac{\\partial^2V}{\\partial S^2} + rS\\frac{\\partial V}{\\partial S} - rV = 0\n",
    "$$\n",
    "Where\n",
    "- $S(t)$ is the price of the underlying asset\n",
    "- $V(S,t)$ is the price of the option\n",
    "- $\\sigma$ is the standard deviation of the return for the underlying asset\n",
    "- $r$ is the risk-free interest rate\n",
    "\n",
    "Solving this equation for a European Call Option gives us\n",
    "$$\n",
    "\\begin{align}\n",
    "C(S_t, t) & = N(d_1) S_t - N(d_2) PV(K)\\\\\n",
    "d_1 & = \\frac{1}{\\sigma\\sqrt{T-t}}\\Big[ ln\\big( \\frac{S_t}{K}\\big) + \\big( r + \\frac{\\sigma^2}{2}\\big)(T-t)\\big) \\Big]\\\\\n",
    "d_2 & = d_1 - \\sigma\\sqrt{T-t}\\\\\n",
    "PV(K) & = Ke^{-r(T-t)}\n",
    "\\end{align}\n",
    "$$\n",
    "\n",
    "Using the put-call parity then gives us the price of a European Put Option\n",
    "\n",
    "$$\n",
    "\\begin{align}\n",
    "P(S_t,t) & = Ke^{-r(T-t)} - S_t + C(S_t,t)\\\\\n",
    "& = N(-d_2)Ke^{-r(T-t)} - N(-d1)S_t\n",
    "\\end{align}\n",
    "$$\n",
    "\n",
    "Where\n",
    "- $N(\\cdot)$ is the cdf for a standard normal distribution\n",
    "- $K$ is the strike price\n",
    "- $T-t$ is the time left to maturity\n",
    "\n",
    "The following code finds the price using the equations above:"
   ]
  },
  {
   "cell_type": "code",
   "execution_count": 7,
   "metadata": {},
   "outputs": [],
   "source": [
    "from typing import NamedTuple\n",
    "\n",
    "class EuropeanOption(NamedTuple):\n",
    "    call: bool # true if call option, false if put\n",
    "    S: float # underlying asset price\n",
    "    K: float # strike price\n",
    "    sigma: float # standard deviation of the return for the stock price\n",
    "    tau: float # time to maturity (T-t), in years\n",
    "    r: float # annual interest rate"
   ]
  },
  {
   "cell_type": "code",
   "execution_count": 53,
   "metadata": {},
   "outputs": [],
   "source": [
    "import numpy as np\n",
    "from scipy.stats import norm\n",
    "\n",
    "def Black_Scholes_Price(option: EuropeanOption) -> float:\n",
    "    # function to calculate the Black-Scholes price for a European Option\n",
    "    if option.call:\n",
    "        # return the price of a european call option\n",
    "        return norm.cdf(d1(option))*option.S - norm.cdf(d2(option))*PV(option)*option.K\n",
    "    \n",
    "    return norm.cdf(-d2(option))*PV(option)*option.K - norm.cdf(-d1(option))*option.S\n",
    "\n",
    "\n",
    "def d1(option: EuropeanOption) -> float:\n",
    "    # function to calculate the intermediate value d1 in the Black-Scholes formula\n",
    "    return 1/(option.sigma * np.sqrt(option.tau))*(np.log(option.S/option.K) + (option.r + option.sigma**2/2)*option.tau)\n",
    "    \n",
    "    \n",
    "def d2(option: EuropeanOption) -> float:\n",
    "    # function to calculate the intermediate value d2 in the Black-Scholes formula\n",
    "    return d1(option) - option.sigma*np.sqrt(option.tau)\n",
    "\n",
    "\n",
    "def PV(option: EuropeanOption) -> float:\n",
    "    # function to calculate the discount factor\n",
    "    return np.exp(-option.r*option.tau)"
   ]
  },
  {
   "cell_type": "code",
   "execution_count": 55,
   "metadata": {},
   "outputs": [
    {
     "name": "stdout",
     "output_type": "stream",
     "text": [
      "Price for European call:  4.22578239296007\n",
      "Price for European put:  11.509872716076657\n"
     ]
    }
   ],
   "source": [
    "euro_call = EuropeanOption(True, 100, 110, 0.25, 0.5, 0.05)\n",
    "euro_put = EuropeanOption(False, 100, 110, 0.25, 0.5, 0.05)\n",
    "print(\"Price for European call: \", Black_Scholes_Price(euro_call))\n",
    "print(\"Price for European put: \", Black_Scholes_Price(euro_put))"
   ]
  },
  {
   "cell_type": "markdown",
   "metadata": {},
   "source": [
    "## Binary Tree implementation for pricing of American Options\n",
    "We will construct a binary tree which can then be used to recursively find the price of an American Option.\n",
    "- We start with an initial stock price of $S_0$\n",
    "- At each time step $t$ we can either move up to $S_t = S_{t-1} \\cdot u$ or down to $S_t = S_{t-1}\\cdot d$. Where $u = e^{\\sigma\\sqrt{\\Delta t}}$ and $d = e^{-\\sigma\\sqrt{\\Delta t}} = \\frac{1}{u}$\n",
    "- At maturity the price of the option is equal to the payoff, $\\max(S_T - K, 0)$ for a call option, and $\\max(K-S_T,0)$ for a put option\n",
    "- For an American option, we have that at each preceding state the value of the option is $\\max(\\textit{binomial value, exercise value})$, where binomial value is the discounted expected value of the next state, i.e. $C(S_t, t) = \\gamma\\mathbb E[C(S_{t+1},t+1)~|~S_t]$\n",
    "- The probability of an upwards movement is given by $p = \\frac{e^{(\\mu-q)\\Delta t}  - d}{u - d}$ where $q$ is the dividend yield for the underlying asset"
   ]
  },
  {
   "cell_type": "code",
   "execution_count": 50,
   "metadata": {},
   "outputs": [],
   "source": [
    "class Option(NamedTuple):\n",
    "    call: bool # true if call option, false if put\n",
    "    american: bool # true if american option, false if european\n",
    "    S: float # underlying asset price\n",
    "    K: float # strike price\n",
    "    sigma: float # standard deviation of the return for the stock price\n",
    "    tau: float # time to maturity (T-t), in years\n",
    "    r: float # annual interest rate\n",
    "    q: float #dividend yield"
   ]
  },
  {
   "cell_type": "code",
   "execution_count": 66,
   "metadata": {},
   "outputs": [],
   "source": [
    "def Binary_Tree(option: Option, steps: int) -> float:\n",
    "    # function that recursively finds the price of an American option\n",
    "    assert(steps >= 0)\n",
    "    \n",
    "    delta_t = option.tau / steps\n",
    "    up = np.exp(option.sigma*np.sqrt(delta_t))\n",
    "    down = 1 / up\n",
    "    # probability of upwards movement\n",
    "    p = (np.exp((option.r - option.q)*delta_t)- down)/(up - down)\n",
    "    \n",
    "    # calculate the discount rate per time step\n",
    "    gamma = np.exp(-option.r*delta_t)\n",
    "    \n",
    "    return binary_tree_helper(gamma, p, option.S, up, down, option, steps)\n",
    "\n",
    "\n",
    "def binary_tree_helper(gamma: float, p: float, s: float, up: float, down: float, option: Option, steps: int) -> float:\n",
    "    # helper function to calculate the option price\n",
    "    # feed in the price\n",
    "    if steps <= 0:\n",
    "        # we have reached the end\n",
    "        if option.call:\n",
    "            return np.maximum(s-option.K, 0)\n",
    "        return np.maximum(option.K - s, 0)\n",
    "    \n",
    "    # recursively find the price of the next step\n",
    "    price_up = binary_tree_helper(gamma, p, s*up, up, down, option, steps - 1)\n",
    "    price_down = binary_tree_helper(gamma, p, s*down, up, down, option, steps - 1)\n",
    "    \n",
    "    if option.american:\n",
    "        # check if option is american\n",
    "        if option.call:\n",
    "            # check if call option\n",
    "            return np.maximum(gamma*(p*price_up + (1-p)*price_down), s - option.K)\n",
    "        return np.maximum(gamma*(p*price_up + (1-p)*price_down), option.K - s)\n",
    "    \n",
    "    # if it reaches here it is a european option\n",
    "    return gamma*(p*price_up + (1-p)*price_down)"
   ]
  },
  {
   "cell_type": "code",
   "execution_count": 64,
   "metadata": {},
   "outputs": [
    {
     "name": "stdout",
     "output_type": "stream",
     "text": [
      "Price for European call:  4.207057860244597\n",
      "Price for European put:  11.491148183361096\n"
     ]
    }
   ],
   "source": [
    "euro_call = Option(True, False, 100, 110, 0.25, 0.5, 0.05, 0)\n",
    "euro_put = Option(False, False, 100, 110, 0.25, 0.5, 0.05, 0)\n",
    "print(\"Price for European call: \", Binary_Tree(euro_call, 10))\n",
    "print(\"Price for European put: \", Binary_Tree(euro_put, 10))"
   ]
  },
  {
   "cell_type": "markdown",
   "metadata": {},
   "source": [
    "As we can see, using a binary grid converges quickly and produces roughly the same answer as Black-Scholes using only 10 time-steps between now and maturity."
   ]
  },
  {
   "cell_type": "code",
   "execution_count": 65,
   "metadata": {},
   "outputs": [
    {
     "name": "stdout",
     "output_type": "stream",
     "text": [
      "Price for American call:  4.207057860244597\n",
      "Price for American put:  12.102604663545703\n"
     ]
    }
   ],
   "source": [
    "am_call = Option(True, True, 100, 110, 0.25, 0.5, 0.05, 0)\n",
    "am_put = Option(False, True, 100, 110, 0.25, 0.5, 0.05, 0)\n",
    "print(\"Price for American call: \", Binary_Tree(am_call, 10))\n",
    "print(\"Price for American put: \", Binary_Tree(am_put, 10))"
   ]
  },
  {
   "cell_type": "markdown",
   "metadata": {},
   "source": [
    "We see that for an American put the price is slightly higher, than the price of the corresponding European put. The American Call produces the same price as the European Call, I don't know if this makes sense or not."
   ]
  },
  {
   "cell_type": "markdown",
   "metadata": {},
   "source": [
    "## Longstaff-Schwartz Algorithm\n",
    "The essence of the Longstaff-Schwartz alogrithm is to use Monte-Carlo simulation of the underlying, combined with a linear regression to determine the value of not exercising. The maximum value of holding on to the option versus exercising will then correspond to the value of the option at that moment."
   ]
  },
  {
   "cell_type": "code",
   "execution_count": 87,
   "metadata": {},
   "outputs": [],
   "source": [
    "def monte_carlo_stock(option: Option, n: int, m: int) -> np.ndarray:\n",
    "    # takes in an option and creates m Monte-Carlo price path simulations of the underlying, for n time-steps\n",
    "    # mu is the drift of the underlying\n",
    "    \n",
    "    #initialize the stock price matrix and set the first value to be the value of the underlying\n",
    "    S = np.zeros((m,n+1))\n",
    "    S[:,0] = option.S\n",
    "    \n",
    "    # simulate a matrix of returns\n",
    "    returns = np.random.normal((option.r/(option.tau*n)),option.sigma/np.sqrt(option.tau*n), (m,n))\n",
    "    \n",
    "    for j in range(1, n+1):\n",
    "        # start at 1 since we have S_0, and then simulate n time-steps\n",
    "        S[:,j] = S[:,j-1]*np.exp(returns[:,j-1])\n",
    "            \n",
    "    return S"
   ]
  },
  {
   "cell_type": "code",
   "execution_count": 88,
   "metadata": {},
   "outputs": [
    {
     "data": {
      "image/png": "[encoded data removed]",
      "text/plain": [
       "<matplotlib.figure.Figure at 0x118a940b8>"
      ]
     },
     "metadata": {},
     "output_type": "display_data"
    }
   ],
   "source": [
    "import matplotlib.pyplot as plt\n",
    "\n",
    "s = monte_carlo_stock(am_call, 10, 10)\n",
    "plt.plot(s.T)\n",
    "plt.show()"
   ]
  },
  {
   "cell_type": "code",
   "execution_count": 155,
   "metadata": {},
   "outputs": [],
   "source": [
    "def longstaff_schwartz(option: Option, n: int, m: int) -> float:\n",
    "    # uses the longstaff-schwartz algorithm to return the value of an american option\n",
    "    \n",
    "    # initialize the value function\n",
    "    cf = np.zeros((m,1))\n",
    "    # simulate the stock price\n",
    "    SP = monte_carlo_stock(option, n, m)\n",
    "    \n",
    "    # set the initial value of the value function to the payoff at maturity\n",
    "    cf = payoff(SP[:,-1], option)\n",
    "    \n",
    "    # recursively backtrack the value of the option\n",
    "    for j in range(n-1,1,-1):\n",
    "        cf *= np.exp(-option.r*option.tau/n)\n",
    "        # we have 4 features in X\n",
    "        X = np.zeros((m,4))\n",
    "        Y = np.zeros((m,1))\n",
    "        for i in range(m):\n",
    "            # only add features if the payoff at current state is > 0 \n",
    "            if payoff(SP[i,j], option) > 0:\n",
    "                X[i,:] = feature_func(SP[i,j], option)\n",
    "                Y[i] = cf[i]\n",
    "\n",
    "        w = np.matmul(np.matmul(np.linalg.inv(np.matmul(X.T, X)), X.T), Y)\n",
    "        \n",
    "        for i in range(m):\n",
    "            if payoff(SP[i,j], option) > np.matmul(feature_func(SP[i,j], option),w):\n",
    "                cf[i] = payoff(SP[i,j], option)\n",
    "                \n",
    "    exercise = payoff(option.S, option)\n",
    "    cont = np.mean(cf)*np.exp(-option.r*option.tau/n)\n",
    "    \n",
    "    return np.maximum(exercise, cont)\n",
    "\n",
    "\n",
    "def feature_func(s: Union[float, np.ndarray], option: Option) -> np.ndarray:\n",
    "    # takes in price of underlying and an option and returns a feature function\n",
    "    sp = np.divide(s, option.K).reshape(-1,1)\n",
    "    \n",
    "    phi_0 = np.ones((np.size(sp),1))\n",
    "    phi_1 = np.exp(-sp/2)\n",
    "    phi_2 = np.multiply(np.exp(-sp/2), 1 - sp)\n",
    "    phi_3 = np.multiply(np.exp(-sp/2), 1 - 2*sp + np.square(sp)/2)\n",
    "\n",
    "    return np.concatenate((phi_0, phi_1, phi_2, phi_3), axis=1)\n",
    "\n",
    "\n",
    "def payoff(s: Union[float, np.ndarray], option: Option) -> Union[float, np.ndarray]:\n",
    "    # returns the payoff for an american option given price of underlying is s\n",
    "    if option.call:\n",
    "        return np.maximum(s - option.K, 0)\n",
    "    \n",
    "    return np.maximum(option.K - s, 0)"
   ]
  },
  {
   "cell_type": "code",
   "execution_count": null,
   "metadata": {},
   "outputs": [
    {
     "name": "stdout",
     "output_type": "stream",
     "text": [
      "Price for American call:  3.7603708980293487\n"
     ]
    }
   ],
   "source": [
    "print(\"Price for American call: \", longstaff_schwartz(am_call, 100, 10000))\n",
    "print(\"Price for American put: \", longstaff_schwartz(am_put, 100, 10000))"
   ]
  },
  {
   "cell_type": "code",
   "execution_count": null,
   "metadata": {},
   "outputs": [],
   "source": []
  },
  {
   "cell_type": "code",
   "execution_count": null,
   "metadata": {},
   "outputs": [],
   "source": []
  }
 ],
 "metadata": {
  "kernelspec": {
   "display_name": "Python 3",
   "language": "python",
   "name": "python3"
  },
  "language_info": {
   "codemirror_mode": {
    "name": "ipython",
    "version": 3
   },
   "file_extension": ".py",
   "mimetype": "text/x-python",
   "name": "python",
   "nbconvert_exporter": "python",
   "pygments_lexer": "ipython3",
   "version": "3.6.4"
  }
 },
 "nbformat": 4,
 "nbformat_minor": 2
}
