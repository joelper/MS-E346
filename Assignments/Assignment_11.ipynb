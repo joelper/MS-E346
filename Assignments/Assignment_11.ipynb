{
 "cells": [
  {
   "cell_type": "markdown",
   "metadata": {},
   "source": [
    "# Write-up and code for Feb 15\n",
    "\n",
    "## To Do:\n",
    "- ~~Prove the Epsilon-Greedy Policy Improvement Theorem (we sketched the proof in Class)~~\n",
    "- ~~Provide (with clear mathematical notation) the defintion of GLIE (Greedy in the Limit with Infinite Exploration)~~\n",
    "- ~~Implement the tabular SARSA and tabular SARSA(Lambda) algorithms~~\n",
    "- ~~Implement the tabular Q-Learning algorithm~~\n",
    "- ~~Test the above algorithms on some example MDPs by using DP Policy Iteration/Value Iteration solutions as a benchmark~~"
   ]
  },
  {
   "cell_type": "markdown",
   "metadata": {},
   "source": [
    "## $\\epsilon$-Greedy Policy Improvement Theorem\n",
    "__Theorem:__ For any $\\epsilon$-greedy policy $\\pi$, the $\\epsilon$-greedy policy $\\pi'$ with respect to $q_\\pi$ is an improvement, $v_{\\pi'}(s) \\geq v_\\pi(s)$\n",
    "\n",
    "__Proof:__ \n",
    "$$\n",
    "\\begin{align}\n",
    "q_\\pi(s,\\pi'(s)) & = \\sum_{a\\in\\mathcal A}\\pi'(a|s)q_\\pi(s,a)\\\\\n",
    "& = \\epsilon/m\\sum_{a\\in\\mathcal A}q_\\pi(s,a) + (1-\\epsilon) \\max_{a \\in\\mathcal A}q_\\pi(s,a)\\\\\n",
    "& \\geq \\epsilon/m\\sum_{a\\in\\mathcal A}q_\\pi(s,a) + (1-\\epsilon) \\sum_{a \\in\\mathcal A}\\frac{\\pi(a|s) - \\epsilon/m}{1-\\epsilon}q_\\pi(s,a)\\\\\n",
    "& = \\sum_{a\\in\\mathcal A}\\pi(a|s)q_\\pi(s,a)\\\\\n",
    "& = v_\\pi(s)\n",
    "\\end{align}\n",
    "$$\n",
    "\n",
    "Therefore, from policy improvement theorem $v_{\\pi'}(s) \\geq v_\\pi(s)$."
   ]
  },
  {
   "cell_type": "markdown",
   "metadata": {},
   "source": [
    "## Greedy in the Limit with Infinite Exploration\n",
    "__Definition:__ Greedy in the Limit with Infinite Exploration (GLIE)\n",
    "- All State-Action pairs are explored infinitely many times,\n",
    "\n",
    "$$\n",
    "\\lim_{k\\to\\infty}N_k(s,a) = \\infty\n",
    "$$\n",
    "\n",
    "where $N_k(s,a)$ is the number of times we have taken action $a$ and visited state $s$ after $k$ time-steps\n",
    "\n",
    "- The policy converges on a greedy policy,\n",
    "\n",
    "$$\n",
    "\\lim_{k\\to\\infty}\\pi(a|s) = \\mathbf 1\\big(a=\\arg\\max_{a'\\in\\mathcal A}Q_k(s,a')\\big)\n",
    "$$"
   ]
  },
  {
   "cell_type": "markdown",
   "metadata": {},
   "source": [
    "## Sarsa and Sarsa($\\lambda$) Algorithms"
   ]
  },
  {
   "cell_type": "code",
   "execution_count": 1,
   "metadata": {},
   "outputs": [],
   "source": [
    "import os\n",
    "import sys\n",
    "module_path = os.path.abspath(os.path.join('..'))\n",
    "if module_path not in sys.path:\n",
    "    sys.path.append(module_path)"
   ]
  },
  {
   "cell_type": "code",
   "execution_count": 222,
   "metadata": {},
   "outputs": [],
   "source": [
    "from typing import Dict\n",
    "from modules.MDP import MDP, Q, Policy, V\n",
    "from modules.RL_interface import RL_interface\n",
    "from modules.state_action_vars import S, A\n",
    "import random\n",
    "\n",
    "def sarsa(mdp: MDP, num_epi: int, num_steps: int, eps: float, alpha: float) -> Q:\n",
    "    # implementation of Sarsa-learning\n",
    "    \n",
    "    # initialize Q(s,a) to zero for all state-action pairs\n",
    "    q = {s: {a: 0. for a in mdp.Actions} for s in mdp.States}\n",
    "    \n",
    "    for i in range(num_epi):\n",
    "        # sample a random starting state and an action\n",
    "        s = random.sample(mdp.States,1).pop()\n",
    "        if random.random() > eps:\n",
    "            _, a = find_max_q(q, s)\n",
    "        else:\n",
    "            a = random.sample(mdp.Actions,1).pop()\n",
    "        \n",
    "        for j in range(num_steps):\n",
    "            # observe a reward r and a next state sp\n",
    "            sp, r = RL_interface(mdp, s, a)\n",
    "        \n",
    "            # follow an epsilon-greedy policy\n",
    "            if random.random() > eps:\n",
    "                _, ap = find_max_q(q, sp)\n",
    "            else:\n",
    "                ap = random.sample(mdp.Actions,1).pop()\n",
    "            \n",
    "            # update the q-function\n",
    "            q[s][a] += alpha*(r + mdp.gamma*q[sp][ap] - q[s][a])\n",
    "            \n",
    "            s = sp\n",
    "            a = ap\n",
    "    return q"
   ]
  },
  {
   "cell_type": "code",
   "execution_count": 3,
   "metadata": {},
   "outputs": [],
   "source": [
    "def sarsa_lambda(mdp: MDP, num_epi: int, num_steps: int, eps: float, alpha: float, lambd: float) -> Q:\n",
    "    # implementation of the Sarsa-lambda algorithm\n",
    "    \n",
    "    # initialize Q(s,a) and N(s,a) to zero for all state-action pairs\n",
    "    q = {s: {a: 0. for a in mdp.Actions} for s in mdp.States}\n",
    "    n = {s: {a: 0 for a in mdp.Actions} for s in mdp.States}\n",
    "    \n",
    "    for i in range(num_epi):\n",
    "        # sample a random starting state and an action\n",
    "        s = random.sample(mdp.States,1).pop()\n",
    "        if random.random() > eps:\n",
    "            _, a = find_max_q(q, s)\n",
    "        else:\n",
    "            a = random.sample(mdp.Actions,1).pop()\n",
    "        \n",
    "        for j in range(num_steps):\n",
    "            # observe a reward r and a next state sp\n",
    "            sp, r = RL_interface(mdp, s, a)\n",
    "            # follow an epsilon-greedy policy\n",
    "            if random.random() > eps:\n",
    "                _, ap = find_max_q(q, sp)\n",
    "            else:\n",
    "                ap = random.sample(mdp.Actions,1).pop()\n",
    "            # increment the eligibility trace\n",
    "            n[s][a] += 1\n",
    "            # calculate the error\n",
    "            delta = r + mdp.gamma*q[sp][ap] - q[s][a]\n",
    "            \n",
    "            for s_ in mdp.States:\n",
    "                for a_ in mdp.Actions:\n",
    "                    # update the q-function\n",
    "                    q[s_][a_] += alpha*delta*n[s_][a_]\n",
    "                    n[s_][a_] *= mdp.gamma*lambd\n",
    "            \n",
    "            s = sp\n",
    "            a = ap\n",
    "    return q"
   ]
  },
  {
   "cell_type": "code",
   "execution_count": 74,
   "metadata": {},
   "outputs": [],
   "source": [
    "def find_max_q(q: Q, s: S) -> A:\n",
    "    # returns the best action for a specific state\n",
    "    best_value = -1e7\n",
    "    best_a = None\n",
    "    \n",
    "    # loop over all the actions and store Q(s,a) and a if it is the current best action\n",
    "    for a in q[s].keys():\n",
    "        if q[s][a] > best_value:\n",
    "            best_value = q[s][a]\n",
    "            best_a = a\n",
    "            \n",
    "    return best_value, best_a"
   ]
  },
  {
   "cell_type": "markdown",
   "metadata": {},
   "source": [
    "## Q-learning"
   ]
  },
  {
   "cell_type": "code",
   "execution_count": 90,
   "metadata": {},
   "outputs": [],
   "source": [
    "def q_learning(mdp: MDP, num_epi: int, num_steps: int, eps: float, alpha: float) -> Q:\n",
    "    # implementation of Sarsa-learning\n",
    "    \n",
    "    # initialize Q(s,a) to zero for all state-action pairs\n",
    "    q = {s: {a: 0. for a in mdp.Actions} for s in mdp.States}\n",
    "    \n",
    "    for i in range(num_epi):\n",
    "        # sample a random starting state and an action\n",
    "        s = random.sample(mdp.States,1).pop()\n",
    "        \n",
    "        for j in range(num_steps):\n",
    "            if random.random() > eps:\n",
    "                _, a = find_max_q(q, s)\n",
    "            else:\n",
    "                a = random.sample(mdp.Actions,1).pop()\n",
    "            # observe a reward r and a next state sp\n",
    "            sp, r = RL_interface(mdp, s, a)\n",
    "            # find the max for next state\n",
    "            q_max,_ = find_max_q(q, sp)\n",
    "            # update the q-function\n",
    "            q[s][a] += alpha*(r + mdp.gamma*q_max - q[s][a])\n",
    "            \n",
    "            s = sp\n",
    "    return q"
   ]
  },
  {
   "cell_type": "code",
   "execution_count": 6,
   "metadata": {},
   "outputs": [],
   "source": [
    "def q_to_policy(q: Q) -> Policy:\n",
    "    # takes in Q(s,a) and returns a greedy policy\n",
    "    policy = {s: {a: 0.0 for a in q[s]} for s in q}\n",
    "    \n",
    "    for s in q:\n",
    "        _, a = find_max_q(q, s)\n",
    "        policy[s][a] = 1.0\n",
    "    \n",
    "    return policy"
   ]
  },
  {
   "cell_type": "code",
   "execution_count": 224,
   "metadata": {},
   "outputs": [],
   "source": [
    "def q_to_v(q: Q) -> V:\n",
    "    # takes in Q(s,a) and returns the value function for the optimal policy\n",
    "    vf = {s: 0.0 for s in q}\n",
    "    \n",
    "    for s in q:\n",
    "        q_max, _ = find_max_q(q, s)\n",
    "        vf[s] = q_max\n",
    "    \n",
    "    return vf"
   ]
  },
  {
   "cell_type": "markdown",
   "metadata": {},
   "source": [
    "## Gridworld Example\n",
    "Continue on the previous Gridworld example. Remember, there are positive rewards of entering state (0,0) and (3,3) while there is a negative reward when entering state (1,2)."
   ]
  },
  {
   "cell_type": "code",
   "execution_count": 7,
   "metadata": {},
   "outputs": [],
   "source": [
    "from modules.gridworld import gridworld\n",
    "import numpy as np\n",
    "gw = gridworld(0.9)"
   ]
  },
  {
   "cell_type": "code",
   "execution_count": 8,
   "metadata": {},
   "outputs": [],
   "source": [
    "def print_policy_gridworld(policy: Policy):\n",
    "    # function that prints out the grid\n",
    "    last_s = (0,0)\n",
    "    for s in sorted(policy.keys()):\n",
    "        if s[0] != last_s[0]:\n",
    "            print()\n",
    "        for a in policy[s]:\n",
    "            \n",
    "            if np.abs(policy[s][a] - 1.0) < 1e-6:\n",
    "                if a == 1:\n",
    "                    string = '<-'\n",
    "                elif a == 2:\n",
    "                    string = '->'\n",
    "                elif a == 3:\n",
    "                    string = '/\\\\'\n",
    "                else:\n",
    "                    string = '\\\\/'\n",
    "                print(s, \": {} \\t\".format(string), end='')\n",
    "        last_s = s\n",
    "    print('\\n')"
   ]
  },
  {
   "cell_type": "code",
   "execution_count": 47,
   "metadata": {},
   "outputs": [],
   "source": [
    "q_sarsa = sarsa(gw, 1000, 30, 0.3, 0.01)\n",
    "q_sarsa_lambda = sarsa_lambda(gw, 10000, 30, 0.3, 0.01, 0.9)\n",
    "#q_learn = q_learning(gw, 1000, 30, 0.3, 0.01)"
   ]
  },
  {
   "cell_type": "code",
   "execution_count": 48,
   "metadata": {},
   "outputs": [],
   "source": [
    "policy_sarsa = q_to_policy(q_sarsa)\n",
    "policy_sarsa_lambda = q_to_policy(q_sarsa_lambda)\n",
    "#policy_qlearn = q_to_policy(q_learn)"
   ]
  },
  {
   "cell_type": "code",
   "execution_count": 49,
   "metadata": {},
   "outputs": [
    {
     "name": "stdout",
     "output_type": "stream",
     "text": [
      "(0, 0) : <- \t(0, 1) : <- \t(0, 2) : <- \t(0, 3) : <- \t\n",
      "(1, 0) : /\\ \t(1, 1) : <- \t(1, 2) : <- \t(1, 3) : \\/ \t\n",
      "(2, 0) : /\\ \t(2, 1) : <- \t(2, 2) : \\/ \t(2, 3) : <- \t\n",
      "(3, 0) : /\\ \t(3, 1) : -> \t(3, 2) : -> \t(3, 3) : <- \t\n",
      "\n",
      "(0, 0) : /\\ \t(0, 1) : <- \t(0, 2) : <- \t(0, 3) : <- \t\n",
      "(1, 0) : /\\ \t(1, 1) : <- \t(1, 2) : <- \t(1, 3) : \\/ \t\n",
      "(2, 0) : /\\ \t(2, 1) : \\/ \t(2, 2) : -> \t(2, 3) : \\/ \t\n",
      "(3, 0) : /\\ \t(3, 1) : -> \t(3, 2) : -> \t(3, 3) : -> \t\n",
      "\n"
     ]
    }
   ],
   "source": [
    "print_policy_gridworld(policy_sarsa)\n",
    "print_policy_gridworld(policy_sarsa_lambda)\n",
    "#print_policy_gridworld(policy_qlearn)"
   ]
  },
  {
   "cell_type": "markdown",
   "metadata": {},
   "source": [
    "## Example Jack's Car Rental\n",
    "The number of cars available in the afternoon at $t+1$ in location A is given by:\n",
    "\n",
    "$$\n",
    "A_{t+1} = A_t + N^A_{t+1} - M^A_{t+1} + D_t\n",
    "$$\n",
    "\n",
    "where $N^A_t$ is the number of cars returned to A, $M^A_t$ is the number of cars rented at A, and $D_t$ is the number of cars moved between A and B. A negative number for $D_t$ means we move cars from A to B, a positive number means we move cars from B to A. The equation is similar for location B,\n",
    "\n",
    "$$\n",
    "B_{t+1} = B_t + N^B_{t+1} - M^B_{t+1} - D_t\n",
    "$$\n",
    "\n",
    "Given that we know the distribution we can find an analytical answer to the transition probabilities. However, my ability to derive those probabilities is limited and I will hence rely on simulations to approximate the transitions probabilities."
   ]
  },
  {
   "cell_type": "code",
   "execution_count": 295,
   "metadata": {},
   "outputs": [],
   "source": [
    "def state_simulator(s: S, a: A, mu_A_rent: float, mu_A_return: float, mu_B_rent: float, mu_B_return: float) -> S:\n",
    "    # function that takes in a state and an action (and Poisson parameters), and returns next states S'\n",
    "    # assume s is a tuple of (S_A, S_B), where S_A and S_B is the number of cars at A and B respectively\n",
    "    \n",
    "    # assume that we first move cars, then we rent out cars, and finally we have cars returned\n",
    "    # simulate number of rentals at A, we cannot rent out more cars than what we have\n",
    "    M_A = np.minimum(np.random.poisson(lam=mu_A_rent), s[0] + a)\n",
    "    # simulate number of returns to A\n",
    "    N_A = np.random.poisson(lam=mu_A_return)\n",
    "    # simulate number of rentals at B\n",
    "    M_B = np.minimum(np.random.poisson(lam=mu_B_rent), s[1] - a)\n",
    "    # simulate number of returns to B\n",
    "    N_B = np.random.poisson(lam=mu_B_return)\n",
    "    \n",
    "    # make sure we don't have more than 20 cars at A/B, or less than 0\n",
    "    S_A = np.maximum(0, np.minimum(20, s[0] + N_A - M_A + a))\n",
    "    S_B = np.maximum(0, np.minimum(20, s[1] + N_B - M_B - a))\n",
    "    S_next = (S_A, S_B)\n",
    "    r = -2.0*np.abs(a) + 10.0*(M_A + M_B)\n",
    "    \n",
    "    return S_next, r"
   ]
  },
  {
   "cell_type": "code",
   "execution_count": 64,
   "metadata": {},
   "outputs": [],
   "source": [
    "States = set()\n",
    "Actions = set()\n",
    "for i in range(21):\n",
    "    for j in range(21):\n",
    "        States.add((i,j))\n",
    "\n",
    "for a in range(-5, 6, 1):\n",
    "    Actions.add(a)"
   ]
  },
  {
   "cell_type": "markdown",
   "metadata": {},
   "source": [
    "Calculate the transition probabilities and the expected rewards using the Poisson distributions. The difference between two Poisson random variables follow a Skellam distribution."
   ]
  },
  {
   "cell_type": "code",
   "execution_count": 366,
   "metadata": {},
   "outputs": [],
   "source": [
    "from scipy.stats import poisson, skellam\n",
    "\n",
    "def trans_prob_rew(s: S, a: A, sp: S) -> float:\n",
    "    # given a state s, an action a, and a new state sp, the function returns the probability of that transition\n",
    "    # assumes poisson distributed rentals and returns\n",
    "    \n",
    "    # find the number of returns - rentals we had for this transition to be possible at A\n",
    "    diff_A = sp[0] - s[0] - a\n",
    "    # find the difference in number of cars at B\n",
    "    diff_B = sp[1] - s[1] + a\n",
    "    # the difference between two Poisson r.v.'s follows a Skellam distribution\n",
    "    p_A = skellam.pmf(diff_A, mu1=3, mu2=3)\n",
    "    p_B = skellam.pmf(diff_B, mu1=2, mu2=4)\n",
    "    \n",
    "    return p_A*p_B\n",
    "\n",
    "\n",
    "def expected_reward(s: S, a: A)"
   ]
  },
  {
   "cell_type": "code",
   "execution_count": 368,
   "metadata": {
    "scrolled": true
   },
   "outputs": [
    {
     "name": "stdout",
     "output_type": "stream",
     "text": [
      "0.11337868480725624\n",
      "0.22675736961451248\n",
      "0.3401360544217687\n",
      "0.45351473922902497\n",
      "0.5668934240362812\n",
      "0.6802721088435374\n",
      "0.7936507936507936\n",
      "0.9070294784580499\n"
     ]
    }
   ],
   "source": [
    "P = {}\n",
    "R = {}\n",
    "i = 0\n",
    "for s in States:\n",
    "    P[s] = {}\n",
    "    R[s] = {}\n",
    "    for a in Actions:\n",
    "        if (a <= 0 and np.abs(a) <= s[0]) or (a > 0 and a <= s[1]):\n",
    "            P[s][a] = {}\n",
    "            R[s][a] = -2*np.abs(a) + 10*(np.minimum(s[0] + a, 3) + np.minimum(s[1] - a, 4))\n",
    "            for sp in States:\n",
    "                P[s][a][sp] = transition_prob(s, a, sp)\n",
    "    i += 1\n",
    "    if i % 50 == 0: print(i/len(States))"
   ]
  },
  {
   "cell_type": "markdown",
   "metadata": {},
   "source": [
    "Define the MDP for this problem"
   ]
  },
  {
   "cell_type": "code",
   "execution_count": 369,
   "metadata": {},
   "outputs": [],
   "source": [
    "mdp_jack = MDP(States, P, Actions, R, 0.9)"
   ]
  },
  {
   "cell_type": "code",
   "execution_count": 373,
   "metadata": {},
   "outputs": [],
   "source": [
    "from modules.DP import value_iter\n",
    "vf_jack = value_iter(mdp_jack, 1e-5)"
   ]
  },
  {
   "cell_type": "code",
   "execution_count": 380,
   "metadata": {},
   "outputs": [],
   "source": [
    "from modules.DP import policy_iter\n",
    "\n",
    "# define a start policy that never moves any cars\n",
    "policy_jack = {}\n",
    "for s in States:\n",
    "    policy_jack[s] = {}\n",
    "    for a in Actions:\n",
    "        if (a <= 0 and np.abs(a) <= s[0]) or (a > 0 and a <= s[1]):\n",
    "            policy_jack[s][a] = 0.0\n",
    "    policy_jack[s][0] = 1.0\n",
    "\n",
    "policy_jack = policy_iter(mdp_jack, policy_jack, 1e-5)"
   ]
  },
  {
   "cell_type": "markdown",
   "metadata": {},
   "source": [
    "The combined state-action space is too large to estimate. Hence we feed in the simulator into our Q-learning algorithm, however we need to cahge the algorithm slightly for this to work."
   ]
  },
  {
   "cell_type": "code",
   "execution_count": 188,
   "metadata": {},
   "outputs": [],
   "source": [
    "from typing import Callable, Tuple\n",
    "import matplotlib.pyplot as plt\n",
    "import seaborn as sns\n",
    "\n",
    "def q_learning_jack(States: Set[S], Actions: Set[A], num_epi: int, \n",
    "                    num_steps: int, eps: float, alpha: float, gamma: float) -> Q:\n",
    "    # implementation of Sarsa-learning\n",
    "    \n",
    "    # initialize Q(s,a) to zero for all state-action pairs\n",
    "    q = {}\n",
    "    for s in States:\n",
    "        q[s] = {}\n",
    "        for a in Actions:\n",
    "            if a < 0 and np.abs(a) < s[0]:\n",
    "                q[s][a] = 0.0\n",
    "            elif a > 0 and a < s[1]:\n",
    "                q[s][a] = 0.0\n",
    "            elif a == 0:\n",
    "                q[s][a] = 0.0\n",
    "                \n",
    "    for i in range(num_epi):\n",
    "        # sample a random starting state and an action\n",
    "        s = random.sample(States,1).pop()\n",
    "        \n",
    "        for j in range(num_steps):\n",
    "            if random.random() > eps:\n",
    "                _, a = find_max_q(q, s)\n",
    "            else:\n",
    "                a = random.sample(list(q[s]),1).pop()\n",
    "            # observe a reward r and a next state sp\n",
    "            sp, r = state_simulator(s, a, 3, 3, 4, 2)\n",
    "            # find the max for next state\n",
    "            \n",
    "            q_max, _ = find_max_q(q, sp)\n",
    "            # update the q-function\n",
    "            q[s][a] += alpha*(r + gamma*q_max - q[s][a])\n",
    "            \n",
    "            s = sp\n",
    "\n",
    "    return q"
   ]
  },
  {
   "cell_type": "code",
   "execution_count": 333,
   "metadata": {},
   "outputs": [],
   "source": [
    "def sarsa_jack(States: Set[S], Actions: Set[A], num_epi: int, \n",
    "                    num_steps: int, eps: float, alpha: float, gamma: float) -> Q:\n",
    "    # implementation of Sarsa-learning\n",
    "    \n",
    "    # initialize Q(s,a) to zero for all state-action pairs\n",
    "    q = {}\n",
    "    for s in States:\n",
    "        q[s] = {}\n",
    "        for a in Actions:\n",
    "            if a < 0 and np.abs(a) < s[0]:\n",
    "                q[s][a] = 0.0\n",
    "            elif a > 0 and a < s[1]:\n",
    "                q[s][a] = 0.0\n",
    "            elif a == 0:\n",
    "                q[s][a] = 0.0\n",
    "                \n",
    "    for i in range(num_epi):\n",
    "        # sample a random starting state and an action\n",
    "        s = random.sample(States,1).pop()\n",
    "        \n",
    "        # follow an epsilon-greedy policy\n",
    "        if random.random() > eps:\n",
    "            _, a = find_max_q(q, s)\n",
    "        else:\n",
    "            a = random.sample(list(q[s]),1).pop()\n",
    "        \n",
    "        for j in range(num_steps):\n",
    "            # observe a reward r and a next state sp\n",
    "            sp, r = state_simulator(s, a, 3, 3, 4, 2)\n",
    "            \n",
    "            # find the action for the next state\n",
    "            if random.random() > eps:\n",
    "                _, ap = find_max_q(q, sp)\n",
    "            else:\n",
    "                ap = random.sample(list(q[sp]),1).pop()\n",
    "            \n",
    "            # update the q-function\n",
    "            q[s][a] += alpha*(r + gamma*q[sp][ap] - q[s][a])\n",
    "            \n",
    "            s = sp\n",
    "            a = ap\n",
    "\n",
    "    return q"
   ]
  },
  {
   "cell_type": "code",
   "execution_count": 345,
   "metadata": {},
   "outputs": [],
   "source": [
    "q_jack_ql = q_learning_jack(States, Actions, 10000, 100, 0.8, 0.001, 0.9)"
   ]
  },
  {
   "cell_type": "code",
   "execution_count": 344,
   "metadata": {},
   "outputs": [],
   "source": [
    "q_jack_sarsa = sarsa_jack(States, Actions, 10000, 100, 0.8, 0.001, 0.9)"
   ]
  },
  {
   "cell_type": "code",
   "execution_count": 346,
   "metadata": {},
   "outputs": [],
   "source": [
    "q_policy_jack_ql = q_to_policy(q_jack_ql)\n",
    "vf_jack_ql = q_to_v(q_jack_ql)\n",
    "\n",
    "q_policy_jack_sarsa = q_to_policy(q_jack_sarsa)\n",
    "vf_jack_sarsa = q_to_v(q_jack_sarsa)"
   ]
  },
  {
   "cell_type": "code",
   "execution_count": 381,
   "metadata": {},
   "outputs": [],
   "source": [
    "policy_grid_jack = np.zeros((21,21))\n",
    "value_grid_jack = np.zeros((21,21))\n",
    "\n",
    "policy_grid_ql = np.zeros((21,21))\n",
    "value_grid_ql = np.zeros((21,21))\n",
    "\n",
    "policy_grid_sarsa = np.zeros((21,21))\n",
    "value_grid_sarsa = np.zeros((21,21))\n",
    "\n",
    "for s in q_policy_jack_ql:\n",
    "    value_grid_ql[s[1], s[0]] = vf_jack_ql[s]\n",
    "    value_grid_sarsa[s[1], s[0]] = vf_jack_sarsa[s]\n",
    "    value_grid_jack[s[1], s[0]] = vf_jack[s]\n",
    "    for a in q_policy_jack_ql[s]:\n",
    "        if np.abs(q_policy_jack_ql[s][a] - 1.0) < 1e-6:\n",
    "            # swap x and y for comparability with sutton\n",
    "            policy_grid_ql[s[1],s[0]] = a\n",
    "        if np.abs(q_policy_jack_sarsa[s][a] - 1.0) < 1e-6:\n",
    "            # swap x and y for comparability with sutton\n",
    "            policy_grid_sarsa[s[1],s[0]] = a\n",
    "        if np.abs(policy_jack[s][a] - 1.0) < 1e-6:\n",
    "            # swap x and y for comparability with sutton\n",
    "            policy_grid_jack[s[1],s[0]] = a"
   ]
  },
  {
   "cell_type": "markdown",
   "metadata": {},
   "source": [
    "## Q-learning"
   ]
  },
  {
   "cell_type": "code",
   "execution_count": 348,
   "metadata": {},
   "outputs": [
    {
     "data": {
      "image/png": "[encoded data removed]",
      "text/plain": [
       "<matplotlib.figure.Figure at 0x1a1d676978>"
      ]
     },
     "metadata": {},
     "output_type": "display_data"
    }
   ],
   "source": [
    "ax = sns.heatmap(policy_grid_ql, linewidth=0.5)\n",
    "ax.invert_yaxis()\n",
    "plt.ylabel('# cars at first location')\n",
    "plt.xlabel('# cars at second location')\n",
    "plt.show()"
   ]
  },
  {
   "cell_type": "code",
   "execution_count": 349,
   "metadata": {},
   "outputs": [
    {
     "data": {
      "image/png": "[encoded data removed]",
      "text/plain": [
       "<matplotlib.figure.Figure at 0x1a1db1f8d0>"
      ]
     },
     "metadata": {},
     "output_type": "display_data"
    }
   ],
   "source": [
    "ax = sns.heatmap(value_grid, linewidth=0.5)\n",
    "ax.invert_yaxis()\n",
    "plt.ylabel('# cars at first location')\n",
    "plt.xlabel('# cars at second location')\n",
    "plt.show()"
   ]
  },
  {
   "cell_type": "markdown",
   "metadata": {},
   "source": [
    "## Sarsa"
   ]
  },
  {
   "cell_type": "code",
   "execution_count": 350,
   "metadata": {},
   "outputs": [
    {
     "data": {
      "image/png": "[encoded data removed]",
      "text/plain": [
       "<matplotlib.figure.Figure at 0x1a1d987eb8>"
      ]
     },
     "metadata": {},
     "output_type": "display_data"
    }
   ],
   "source": [
    "ax = sns.heatmap(policy_grid_sarsa, linewidth=0.5)\n",
    "ax.invert_yaxis()\n",
    "plt.ylabel('# cars at first location')\n",
    "plt.xlabel('# cars at second location')\n",
    "plt.show()"
   ]
  },
  {
   "cell_type": "code",
   "execution_count": 351,
   "metadata": {},
   "outputs": [
    {
     "data": {
      "image/png": "[encoded data removed]",
      "text/plain": [
       "<matplotlib.figure.Figure at 0x1a1d9295c0>"
      ]
     },
     "metadata": {},
     "output_type": "display_data"
    }
   ],
   "source": [
    "ax = sns.heatmap(value_grid_sarsa, linewidth=0.5)\n",
    "ax.invert_yaxis()\n",
    "plt.ylabel('# cars at first location')\n",
    "plt.xlabel('# cars at second location')\n",
    "plt.show()"
   ]
  },
  {
   "cell_type": "code",
   "execution_count": 328,
   "metadata": {},
   "outputs": [],
   "source": [
    "s0 = 10, 10\n",
    "a0 = -2\n",
    "mu_A_rent, mu_A_return, mu_B_rent, mu_B_return = 3, 3, 4, 2"
   ]
  },
  {
   "cell_type": "code",
   "execution_count": 332,
   "metadata": {},
   "outputs": [
    {
     "name": "stdout",
     "output_type": "stream",
     "text": [
      "(2, 11) 56.0\n",
      "(4, 13) 26.0\n",
      "(4, 15) 26.0\n",
      "(2, 20) 36.0\n",
      "(4, 19) 26.0\n",
      "(3, 20) 56.0\n",
      "(0, 19) 56.0\n",
      "(2, 16) 26.0\n",
      "(1, 11) 86.0\n",
      "(2, 14) 16.0\n",
      "(3, 9) 76.0\n",
      "(5, 10) 26.0\n",
      "(1, 9) 76.0\n",
      "(5, 12) 16.0\n",
      "(4, 13) 36.0\n",
      "(7, 7) 106.0\n",
      "(0, 6) 96.0\n",
      "(2, 10) -4.0\n",
      "(2, 14) 16.0\n",
      "(3, 14) 36.0\n"
     ]
    }
   ],
   "source": [
    "s1, r = state_simulator(s0, a0, mu_A_rent, mu_A_return, mu_B_rent, mu_B_return)\n",
    "for i in range(20):\n",
    "    s1, r = state_simulator(s1, a0, mu_A_rent, mu_A_return, mu_B_rent, mu_B_return)\n",
    "    print(s1, r)"
   ]
  },
  {
   "cell_type": "markdown",
   "metadata": {},
   "source": [
    "## Value iteration"
   ]
  },
  {
   "cell_type": "code",
   "execution_count": 384,
   "metadata": {},
   "outputs": [
    {
     "data": {
      "image/png": "[encoded data removed]",
      "text/plain": [
       "<matplotlib.figure.Figure at 0x1a1dacdac8>"
      ]
     },
     "metadata": {},
     "output_type": "display_data"
    }
   ],
   "source": [
    "ax = sns.heatmap(policy_grid_jack, linewidth=0.5)\n",
    "ax.invert_yaxis()\n",
    "plt.ylabel('# cars at first location')\n",
    "plt.xlabel('# cars at second location')\n",
    "plt.show()"
   ]
  },
  {
   "cell_type": "code",
   "execution_count": 383,
   "metadata": {},
   "outputs": [
    {
     "data": {
      "image/png": "[encoded data removed]",
      "text/plain": [
       "<matplotlib.figure.Figure at 0x1a21a08ef0>"
      ]
     },
     "metadata": {},
     "output_type": "display_data"
    }
   ],
   "source": [
    "ax = sns.heatmap(value_grid_jack, linewidth=0.5)\n",
    "ax.invert_yaxis()\n",
    "plt.ylabel('# cars at first location')\n",
    "plt.xlabel('# cars at second location')\n",
    "plt.show()"
   ]
  },
  {
   "cell_type": "code",
   "execution_count": null,
   "metadata": {},
   "outputs": [],
   "source": []
  }
 ],
 "metadata": {
  "kernelspec": {
   "display_name": "Python 3",
   "language": "python",
   "name": "python3"
  },
  "language_info": {
   "codemirror_mode": {
    "name": "ipython",
    "version": 3
   },
   "file_extension": ".py",
   "mimetype": "text/x-python",
   "name": "python",
   "nbconvert_exporter": "python",
   "pygments_lexer": "ipython3",
   "version": "3.6.4"
  }
 },
 "nbformat": 4,
 "nbformat_minor": 2
}
