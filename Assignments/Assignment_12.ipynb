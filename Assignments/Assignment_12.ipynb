{
 "cells": [
  {
   "cell_type": "markdown",
   "metadata": {},
   "source": [
    "# Write-up and code for Feb 20 and 22\n",
    "\n",
    "## To Do:\n",
    "- ~~Write code for the interface for RL algorithms with value function approximation. The core of this interface should be a function from a (state, action) pair to a sampling of the (next state, reward) pair. It is important that this interface doesn't present the state-transition probability model or the reward model.~~\n",
    "- Implement any Monte-Carlo Prediction algorithm with Value Function approximation\n",
    "- Implement 1-step TD Prediction algorithm with Value Function approximation\n",
    "- Implement Eligibility-Traces-based TD(lambda) Prediction algorithm with Value Function approximation\n",
    "- Implement SARSA and SARSA(Lambda) with Value Function approximation\n",
    "- Implement Q-Learning with Value Function approximation\n",
    "- Optional: Implement LSTD and LSPI\n",
    "- Test the above algorithms versus DP Policy Evaluation and DP Policy Iteration/Value Iteration algorithm on an example MDP\n",
    "- Project Suggestion: Customize the LSPI algorithm for American Option Pricing (see this paper)"
   ]
  },
  {
   "cell_type": "markdown",
   "metadata": {},
   "source": [
    "## MDP Interface for RL Algorithms with Value Function Approximation"
   ]
  },
  {
   "cell_type": "code",
   "execution_count": 9,
   "metadata": {},
   "outputs": [],
   "source": [
    "import os\n",
    "import sys\n",
    "module_path = os.path.abspath(os.path.join('..'))\n",
    "if module_path not in sys.path:\n",
    "    sys.path.append(module_path)"
   ]
  },
  {
   "cell_type": "code",
   "execution_count": 14,
   "metadata": {},
   "outputs": [],
   "source": [
    "from typing import Dict, NamedTuple, Callable, Set, Tuple\n",
    "from modules.MDP import MDP, Q, Policy, V\n",
    "from modules.RL_interface import RL_interface\n",
    "from modules.state_action_vars import S, A\n",
    "import random"
   ]
  },
  {
   "cell_type": "code",
   "execution_count": 16,
   "metadata": {},
   "outputs": [],
   "source": [
    "class RL_interface_FA(NamedTuple):\n",
    "    # interface for reinforcement learning with value function approximation, \n",
    "    # largely inspired by Professor Ashwin Rao's implementation\n",
    "    \n",
    "    # function that takes in a state and return a set of possible actions\n",
    "    state_action_func: Callable[[S], Set[A]]\n",
    "    # function that takes in a state and an action, and returns a new state sp and the reward \n",
    "    state_reward_func: Callable[[S, A], Tuple[S, float]]\n",
    "    # discount factor\n",
    "    gamma: float"
   ]
  },
  {
   "cell_type": "markdown",
   "metadata": {},
   "source": [
    "## Monte-Carlo Prediction Algorithm with Value Function Approximation"
   ]
  },
  {
   "cell_type": "code",
   "execution_count": null,
   "metadata": {},
   "outputs": [],
   "source": []
  }
 ],
 "metadata": {
  "kernelspec": {
   "display_name": "Python 3",
   "language": "python",
   "name": "python3"
  },
  "language_info": {
   "codemirror_mode": {
    "name": "ipython",
    "version": 3
   },
   "file_extension": ".py",
   "mimetype": "text/x-python",
   "name": "python",
   "nbconvert_exporter": "python",
   "pygments_lexer": "ipython3",
   "version": "3.6.4"
  }
 },
 "nbformat": 4,
 "nbformat_minor": 2
}
