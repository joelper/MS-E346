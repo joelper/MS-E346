{
 "cells": [
  {
   "cell_type": "markdown",
   "metadata": {},
   "source": [
    "# Write-up and code for Feb 20 and 22\n",
    "\n",
    "## To Do:\n",
    "- ~~Write code for the interface for RL algorithms with value function approximation. The core of this interface should be a function from a (state, action) pair to a sampling of the (next state, reward) pair. It is important that this interface doesn't present the state-transition probability model or the reward model.~~\n",
    "- ~~Implement any Monte-Carlo Prediction algorithm with Value Function approximation~~\n",
    "- Implement 1-step TD Prediction algorithm with Value Function approximation\n",
    "- Implement Eligibility-Traces-based TD(lambda) Prediction algorithm with Value Function approximation\n",
    "- Implement SARSA and SARSA(Lambda) with Value Function approximation\n",
    "- Implement Q-Learning with Value Function approximation\n",
    "- Optional: Implement LSTD and LSPI\n",
    "- Test the above algorithms versus DP Policy Evaluation and DP Policy Iteration/Value Iteration algorithm on an example MDP\n",
    "- Project Suggestion: Customize the LSPI algorithm for American Option Pricing (see this paper)"
   ]
  },
  {
   "cell_type": "markdown",
   "metadata": {},
   "source": [
    "## MDP Interface for RL Algorithms with Value Function Approximation"
   ]
  },
  {
   "cell_type": "code",
   "execution_count": 2,
   "metadata": {},
   "outputs": [],
   "source": [
    "import os\n",
    "import sys\n",
    "module_path = os.path.abspath(os.path.join('..'))\n",
    "if module_path not in sys.path:\n",
    "    sys.path.append(module_path)"
   ]
  },
  {
   "cell_type": "code",
   "execution_count": 8,
   "metadata": {},
   "outputs": [],
   "source": [
    "from typing import Dict, NamedTuple, Callable, Set, Tuple, List\n",
    "from modules.MDP import MDP, Q, Policy, V\n",
    "from modules.RL_interface import RL_interface\n",
    "from modules.state_action_vars import S, A\n",
    "import random\n",
    "import numpy as np"
   ]
  },
  {
   "cell_type": "code",
   "execution_count": 4,
   "metadata": {},
   "outputs": [],
   "source": [
    "class RL_interface_FA(NamedTuple):\n",
    "    # interface for reinforcement learning with value function approximation, \n",
    "    # largely inspired by Professor Ashwin Rao's implementation\n",
    "    \n",
    "    # function that takes in a state and return a set of possible actions\n",
    "    state_action_func: Callable[[S], Set[A]]\n",
    "    # function that takes in a state and an action, and returns a new state sp and the reward \n",
    "    state_reward_func: Callable[[S, A], Tuple[S, float]]\n",
    "    # inital state generator\n",
    "    init_state_action_gen: Callable[[], Tuple[S, A]]\n",
    "    # discount factor\n",
    "    gamma: float"
   ]
  },
  {
   "cell_type": "markdown",
   "metadata": {},
   "source": [
    "## Monte-Carlo Prediction Algorithm with Value Function Approximation"
   ]
  },
  {
   "cell_type": "code",
   "execution_count": 15,
   "metadata": {},
   "outputs": [],
   "source": [
    "def mc_vi_approx(polf: Callable[[S], A], alpha: float, v_hat: Callable[[S, np.ndarray], float], \n",
    "                 sampler: RL_interface_FA, feature_func: Callable[[S], np.ndarray], \n",
    "                 num_epi: int, num_steps: int, d: int) \\\n",
    "    -> Callable[[S], float]:\n",
    "    # implementation of Monte-Carlo Prediction Algorithm with Value Function Approximation\n",
    "    # assume the approximation function is linear\n",
    "\n",
    "    # initiliaze weight vector\n",
    "    w = np.zeros((d,1))\n",
    "    gamma = sampler.gamma\n",
    "    \n",
    "    for i in range(num_epi):\n",
    "        s_list, a_list, r_list = get_mc_path(polf, sampler, num_steps)\n",
    "        G = 0\n",
    "        for j in range(num_steps):\n",
    "            G = np.sum(np.multiply(np.power(gamma, np.arange(num_steps-j)), np.array(r_list[j:])))\n",
    "            w += alpha*(G - v_hat(s_list[j], w))*w\n",
    "   \n",
    "    return w\n",
    "    \n",
    "    \n",
    "def get_mc_path(polf: Callable[[S], A], sampler: RL_interface_FA, num_steps: int) \\\n",
    "    -> Tuple[List[S], List[A], List[float]]:\n",
    "    # simulate a Monte-Carlo path\n",
    "    s_list = []\n",
    "    a_list = []\n",
    "    r_list = []\n",
    "\n",
    "    s, a = sampler.init_state_action_gen()\n",
    "    s_list.append(s)\n",
    "    a_list.append(a)\n",
    "    \n",
    "    for i in range(n_steps):\n",
    "        s, r = sampler.state_reward_func(s, a)\n",
    "        a = polf(s)\n",
    "        s_list.append(s)\n",
    "        a_list.append(a)\n",
    "        r_list.append(r)\n",
    "        \n",
    "    # sample the last reward\n",
    "    _, r = sampler.state_reward_func(s, a)\n",
    "    r_list.append(r)\n",
    "    \n",
    "    return s_list, a_list, r_list"
   ]
  },
  {
   "cell_type": "markdown",
   "metadata": {},
   "source": [
    "## Least Square Policy Iteration for American Option Pricing"
   ]
  },
  {
   "cell_type": "code",
   "execution_count": null,
   "metadata": {},
   "outputs": [],
   "source": []
  }
 ],
 "metadata": {
  "kernelspec": {
   "display_name": "Python 3",
   "language": "python",
   "name": "python3"
  }
 },
 "nbformat": 4,
 "nbformat_minor": 2
}
