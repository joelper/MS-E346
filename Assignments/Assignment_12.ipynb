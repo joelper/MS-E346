{
 "cells": [
  {
   "cell_type": "markdown",
   "metadata": {},
   "source": [
    "# Write-up and code for Feb 20 and 22\n",
    "\n",
    "## To Do:\n",
    "- Write code for the interface for RL algorithms with value function approximation. The core of this interface should be a function from a (state, action) pair to a sampling of the (next state, reward) pair. It is important that this interface doesn't present the state-transition probability model or the reward model.\n",
    "- Implement any Monte-Carlo Prediction algorithm with Value Function approximation\n",
    "- Implement 1-step TD Prediction algorithm with Value Function approximation\n",
    "- Implement Eligibility-Traces-based TD(lambda) Prediction algorithm with Value Function approximation\n",
    "- Implement SARSA and SARSA(Lambda) with Value Function approximation\n",
    "- Implement Q-Learning with Value Function approximation\n",
    "- Optional: Implement LSTD and LSPI\n",
    "- Test the above algorithms versus DP Policy Evaluation and DP Policy Iteration/Value Iteration algorithm on an example MDP\n",
    "- Project Suggestion: Customize the LSPI algorithm for American Option Pricing (see this paper)"
   ]
  },
  {
   "cell_type": "code",
   "execution_count": null,
   "metadata": {},
   "outputs": [],
   "source": []
  }
 ],
 "metadata": {
  "kernelspec": {
   "display_name": "Python 3",
   "language": "python",
   "name": "python3"
  },
  "language_info": {
   "codemirror_mode": {
    "name": "ipython",
    "version": 3
   },
   "file_extension": ".py",
   "mimetype": "text/x-python",
   "name": "python",
   "nbconvert_exporter": "python",
   "pygments_lexer": "ipython3",
   "version": "3.6.4"
  }
 },
 "nbformat": 4,
 "nbformat_minor": 2
}
