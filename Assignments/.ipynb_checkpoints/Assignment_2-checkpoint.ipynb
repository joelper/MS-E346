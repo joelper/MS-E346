{
 "cells": [
  {
   "cell_type": "markdown",
   "metadata": {},
   "source": [
    "# Write up and code for Assignment 2 Week 1"
   ]
  },
  {
   "cell_type": "markdown",
   "metadata": {},
   "source": [
    "### Definitions\n",
    "\n",
    "#### Markov Process\n",
    "A Markov Process (MP) is a stochastic process where each state follow the Markov property, i.e. $\\mathbb P[S_{t+1}=s'~|~S_1, S_2, ..., S_t] = \\mathbb P[S_{t+1} = s' ~|~ S_t]$. This means that history beyond the current state offers no more information about the transition to the next state. The transition probabilities are governed by a transition probability matrix $\\mathcal P$. The states in an MP consists of a finite set $\\mathcal S$. An MP is then defined by its parameters $\\mathcal S$ and $\\mathcal P$.\n",
    "\n",
    "#### Markov Reward Process\n",
    "In addition to a finite set of states $\\mathcal S$, and a transition probability matrix $\\mathcal P$, a Markov Reward Process (MRP) also has a reward function $\\mathcal R$, ($\\mathcal R_s = \\mathbb E[R_{t+1}~|~S_t = s]$), and a discount factor $\\gamma \\in [0,1]$. An MRP is then defined by the parameters $\\mathcal S$, $\\mathcal P$, $\\mathcal R$ and $\\gamma$. An MRP is thus an extension of an MP.\n",
    "\n",
    "#### Markov Decision Process\n",
    "A Markov Decision Process (MDP) consists of a finite set of states $\\mathcal S$, a transition probability matrix $\\mathcal P$, a reward function $\\mathcal R$, a discount factor $\\gamma$, and a finite set of actions $\\mathcal A$. An MDP is then defined by the parameters $\\mathcal S$, $\\mathcal A$, $\\mathcal P$, $\\mathcal R$ and $\\gamma$. An MDP is thus an extension of an MRP.\n",
    "\n",
    "#### Value function\n",
    "First we define the return $G_t$ as the total discounted rewards recieved starting at time $t$. $$G_t = R_{t} + \\gamma R_{t+1} + \\gamma^2 R_{t+2} + ...$$\n",
    "\n",
    "The state value function $v(s)$ is the value of an MDP when starting in state $s$. It is given by:\n",
    "$$v(s) = \\mathbb E[G_t~|~S_t = s]$$\n",
    "Using the definition of the return we can write the value function as $$v(s) = \\mathbb E[R_t + \\gamma R_{t+1} + ... ~|~S_t = s] = E[R_t ~|~ S_t = s] + \\gamma E[G_{t+1}~|~S_t = s]$$\n",
    "\n",
    "\n",
    "### Data Structures\n",
    "Below is the code for how to represent the above processes in code as structs."
   ]
  },
  {
   "cell_type": "code",
   "execution_count": 33,
   "metadata": {},
   "outputs": [],
   "source": [
    "from typing import NamedTuple, Any\n",
    "import numpy as np\n",
    "\n",
    "class MP(NamedTuple):\n",
    "    S: any\n",
    "    P: float\n",
    "        \n",
    "        \n",
    "class MRP(NamedTuple):\n",
    "    mp: MP\n",
    "    R: np.ndarray\n",
    "    gamma: float\n",
    "    \n",
    "    \n",
    "class MDP(NamedTuple):\n",
    "    mrp: \n",
    "    A: any\n",
    "        \n",
    "        \n",
    "class Policy(NamedTuple):\n",
    "    S: Any\n",
    "    A: Any\n",
    "    P: np.ndarray\n",
    "    R: np.ndarray\n",
    "    gamma: float"
   ]
  },
  {
   "cell_type": "code",
   "execution_count": null,
   "metadata": {},
   "outputs": [],
   "source": []
  },
  {
   "cell_type": "code",
   "execution_count": 1,
   "metadata": {},
   "outputs": [],
   "source": [
    "from typing import NamedTuple, Any\n",
    "import numpy as np\n",
    "\n",
    "class MP:\n",
    "    def __init__(self, S: any, P: np.ndarray):\n",
    "        self.S: any = S\n",
    "        self.P: np.ndarray = P"
   ]
  },
  {
   "cell_type": "code",
   "execution_count": null,
   "metadata": {},
   "outputs": [],
   "source": []
  },
  {
   "cell_type": "code",
   "execution_count": null,
   "metadata": {},
   "outputs": [],
   "source": []
  }
 ],
 "metadata": {
  "kernelspec": {
   "display_name": "Python 3",
   "language": "python",
   "name": "python3"
  },
  "language_info": {
   "codemirror_mode": {
    "name": "ipython",
    "version": 3
   },
   "file_extension": ".py",
   "mimetype": "text/x-python",
   "name": "python",
   "nbconvert_exporter": "python",
   "pygments_lexer": "ipython3",
   "version": "3.6.4"
  }
 },
 "nbformat": 4,
 "nbformat_minor": 2
}
