{
 "cells": [
  {
   "cell_type": "markdown",
   "metadata": {},
   "source": [
    "# Write-up and code for Assignment 6 - Week 3\n",
    "\n",
    "### To do\n",
    "- ~~Model Merton's Portfolio problem as an MDP (write the model in LaTeX)~~\n",
    "- ~~Implement this MDP model in code~~\n",
    "- ~~Try recovering the closed-form solution with a DP algorithm that you implemented previously~~\n",
    "- Model a real-world Portfolio Allocation+Consumption problem as an MDP (including real-world frictions and constraints)"
   ]
  },
  {
   "cell_type": "markdown",
   "metadata": {},
   "source": [
    "## Merton's Portfolio Problem\n",
    "### Informal Problem Statement\n",
    "- You will live for $T$ more years, where $T$ is deterministic. \n",
    "- $W_0 > 0 $ is the current wealth $+$ the present value of future income minus debts. \n",
    "- You can invest in $n$ risky assets and 1 riskless asset. \n",
    "- Each asset has a known normal distribution of returns. You are allowed to go long or short any fractional quantities of assets. \n",
    "- Trading is done in continuous time $0 \\leq t < T$, with no transaction costs.\n",
    "- You can consume any fractional amount of wealth at any time.\n",
    "- Dynamic Decision: Optimal Allocation and Consumption at each time with the goal of maximizing the lifetime-aggregated utility of consumption.\n",
    "- Consumtion utility assumed to have Constant Relative Risk-Aversion (CRRA)."
   ]
  },
  {
   "cell_type": "markdown",
   "metadata": {},
   "source": [
    "### Problem Notation\n",
    "- The riskless asset is described by: $dR_t = r\\cdot R_t \\cdot dt$\n",
    "- Risky asset $i$ is governed by: $dS_{i,t} = \\mu_i\\cdot S_{i,t}\\cdot dt + \\sigma_i\\cdot S_{i,t} \\cdot dz_{t}$, if we consider $\\mu$ and $\\sigma$ to be vectors and matrices we can write the Geometric Brownian motion in vector form as $dS_{t} = \\mu_i\\cdot S_{t}\\cdot dt + \\sigma\\cdot S_{t} \\cdot dz_{t}$. Where $S_t$ and $dS_t$ are vectors.\n",
    "- $\\mu > r> 0,~ \\sigma >0$ for all $n$ assets.\n",
    "- The wealth at time $t$ is denoted by $W_t > 0$.\n",
    "- Fraction of wealth allocated to risky asset $i$ is denoted by $\\pi_i(t,W_t)$.\n",
    "- Fraction of wealth allocated to riskless asset is denoted by $1 - \\sum_{i=1}^n \\pi_i$.\n",
    "- Wealth consumption denoted by $c(t,W(t)) \\geq 0$\n",
    "- Utility of consumption function $U(x) = \\frac{x^{1-\\gamma}}{1-\\gamma}$ for $0<\\gamma\\neq1$\n",
    "- Utility of consumption function $U(x) = \\log(x)$ for $\\gamma =1$\n",
    "- $\\gamma=$ (constant) Relative Risk-Aversion $\\frac{-x\\cdot U''(x)}{U'(x)}$"
   ]
  },
  {
   "cell_type": "markdown",
   "metadata": {},
   "source": [
    "### Markov Decision Process Model\n",
    "We can leverage the framework of an MDP to model Merton's Portolio Problem and thereby use Dynamic Programming to find solutions (more efficient techniques will be covered later). We model this problem using a single risky asset and one riskless asset.\n",
    "- The _State_ is $(t,W_t)$\n",
    "- The _Action_ is $[\\pi_t, c_t]$\n",
    "- The _Reward_ per unit time is $U(c_t)$\n",
    "- The _Return_ is the usual accumulated discounted _Reward_\n",
    "- The goal is to find a _Policy_: $(t, W_t) \\rightarrow [\\pi_t, c_t]$ that maximizes the _Expected Return_\n",
    "- Note: $c_t \\geq 0$, but $\\pi_t$ is unconstrained\n",
    "- The _Transitions_ are governed by the processes mentioned previously"
   ]
  },
  {
   "cell_type": "markdown",
   "metadata": {},
   "source": [
    "### Code for modeling Merton's Portfolio Problem as MDP"
   ]
  },
  {
   "cell_type": "code",
   "execution_count": 77,
   "metadata": {},
   "outputs": [],
   "source": [
    "import numpy as np\n",
    "        \n",
    "def utility_calc(c: float, gamma: float) -> float:\n",
    "    # function to return the utility for a consumption of wealth c and parameter gamma\n",
    "    if np.abs(gamma - 1.0) > 1e-9:\n",
    "        return np.power(c, 1-gamma)/(1 - gamma)\n",
    "    else:\n",
    "        return np.log(c)"
   ]
  },
  {
   "cell_type": "markdown",
   "metadata": {},
   "source": [
    "Assume that at each time step you can decide to invest in fraction of 10% in the risky asset (starting from 0 to 1) and you can also consume the wealth in fractions of 10%."
   ]
  },
  {
   "cell_type": "code",
   "execution_count": 42,
   "metadata": {},
   "outputs": [],
   "source": [
    "Actions = set()\n",
    "for i in np.arange(0,1.1,0.1):\n",
    "    for j in np.arange(0,1.1,0.1):\n",
    "        Actions.add((i, j))"
   ]
  },
  {
   "cell_type": "code",
   "execution_count": 23,
   "metadata": {},
   "outputs": [],
   "source": [
    "disc = 1.0 # discount rate"
   ]
  },
  {
   "cell_type": "code",
   "execution_count": 111,
   "metadata": {},
   "outputs": [],
   "source": [
    "from scipy.stats import norm\n",
    "\n",
    "def trans_and_rew(s: S, a: A, mu: float, sigma: float, r: float, States: Set[S], gamma: float) -> Dict[S, Tuple[float,float]]:\n",
    "    # function that takes in a state and an action and returns a mapping to states with non-zero transition probs,\n",
    "    # and the corresponding trans probability. Assumes normal distribution\n",
    "    # the funciton also returns the utility of the consumption, i.e. the reward\n",
    "    \n",
    "    d = {}\n",
    "    # find the wealth if the stock goes up\n",
    "    s_up = (s[0]+1,np.maximum(int((1 + mu)* a[0] * s[1] + (1 + r)*(1 - a[0]) * s[1] - a[1] * s[1]),0))\n",
    "    # find the wealth if the stock goes down\n",
    "    s_down = (s[0] + 1, np.maximum(int((1 - mu)* a[0] * s[1] + (1 + r)*(1 - a[0]) * s[1] - a[1] * s[1]), 0))\n",
    "                                                                                                       \n",
    "    rew = utility_calc(a[1] * s[1], gamma)\n",
    "    p_down = norm.cdf(0, mu, sigma)\n",
    "    d[s_down] = p_down, rew\n",
    "    d[s_up] = 1 - p_down, rew\n",
    "    \n",
    "    return d"
   ]
  },
  {
   "cell_type": "markdown",
   "metadata": {},
   "source": [
    "To make the problem easier, assume that for each combination of action and state we can end up in two different states, one symbolizing an upwards movement for the price of the risky asset, and one state symbolizing a downwards movement. The size of the movement will depend on the amount put in the risky asset, i.e. the action taken."
   ]
  },
  {
   "cell_type": "code",
   "execution_count": 166,
   "metadata": {},
   "outputs": [],
   "source": [
    "# problem parameters\n",
    "gamma = 0.75\n",
    "mu = 0.23\n",
    "sigma = 0.15\n",
    "r = 0.03\n",
    "\n",
    "States = set()\n",
    "# have an initial wealth of 50\n",
    "S0 = (0,50)\n",
    "States.add(S0)\n",
    "# initialize transition and reward dicts\n",
    "P = {}\n",
    "R = {}\n",
    "\n",
    "new_states = set()\n",
    "new_states.add(S0)\n",
    "# initiate a uniform policy\n",
    "pi = {}\n",
    "for t in range(10):\n",
    "    # create a temporary variable where we store the new states we go to, makes it easier when looping over states\n",
    "    temp_states = set()\n",
    "    for s in new_states:\n",
    "        pi[s] = {}\n",
    "        P[s] = {}\n",
    "        R[s] = {}\n",
    "        for a in sorted(Actions):\n",
    "            # get the transtition probs plus the rewards\n",
    "            d = trans_and_rew(s, a, mu, sigma, r, States, gamma)\n",
    "            # create a uniform policy\n",
    "            pi[s][a] = 1/len(Actions)\n",
    "            P[s][a] = {}\n",
    "            R[s][a] = 0\n",
    "            for sp in d:\n",
    "                P[s][a][sp] = d[sp][0]\n",
    "                R[s][a] += d[sp][1]/2\n",
    "                temp_states.add(sp)\n",
    "                States.add(sp)\n",
    "    new_states = temp_states.copy()"
   ]
  },
  {
   "cell_type": "code",
   "execution_count": 175,
   "metadata": {},
   "outputs": [],
   "source": [
    "# define the MDP for this problem\n",
    "mdp = MDP(States, P, Actions, R, disc)\n",
    "# perform value iteration\n",
    "vf, policy = async_value_iter(mdp, 100)"
   ]
  },
  {
   "cell_type": "markdown",
   "metadata": {},
   "source": [
    "Below we can see the policy for all states. We can see a trend where early states tend to have a lower consumption rate than later stages. We can also see that earlier states tend to have more aggressive investing in the risky asset. This might be to an unreasonably high expected return ($\\mu = 0.23$) combined with a low standard deviation ($\\sigma = 0.15$)."
   ]
  },
  {
   "cell_type": "code",
   "execution_count": 192,
   "metadata": {},
   "outputs": [
    {
     "data": {
      "image/png": "[encoded data removed]",
      "text/plain": [
       "<matplotlib.figure.Figure at 0x1a0e1bbbe0>"
      ]
     },
     "metadata": {},
     "output_type": "display_data"
    }
   ],
   "source": [
    "import pylab as pl\n",
    "last_t = 0\n",
    "avg_con = np.zeros((10,1))\n",
    "avg_all = np.zeros((10,1))\n",
    "counter = np.zeros((10,1))\n",
    "for s in sorted(policy):\n",
    "    avg_all[s[0]] += policy[s][0]\n",
    "    avg_con[s[0]] += policy[s][1]\n",
    "    counter[s[0]] += 1  \n",
    "\n",
    "avg_all = np.divide(avg_all, counter)\n",
    "avg_con = np.divide(avg_con, counter)\n",
    "# for i in range(avg_all.shape[0]):\n",
    "#     print(i, avg_all[i], avg_con[i])\n",
    "pl.plot(np.arange(10), avg_all, label='Allocation line')\n",
    "pl.plot(np.arange(10), avg_con, label='Consumption line')\n",
    "pl.xlabel('t')\n",
    "pl.ylabel('Allocation/consumption Rate')\n",
    "pl.legend(loc='center left')\n",
    "pl.show()"
   ]
  },
  {
   "cell_type": "markdown",
   "metadata": {},
   "source": [
    "### Real World Portfolio Allocation + Consumption Problem\n",
    "In addition to the problem statement above we can introduce several constraints and frictions to make the example closer to a real world scenario. First of all, we can extend the number of risky assets to $n$, with each asset $i$ being guided by a Geometric Brownian motion with parameters $(\\mu_i, \\sigma_i)$. We can also add constraints for how much we are allowed to invest or short in a single asset, in order to diversicate we might say that we cannot invest more than $20\\%$ in each asset. Another aspect to make it closer to the real world is to introduce transaction costs, e.g. reallocating between assets creates a cost that we need to account for."
   ]
  },
  {
   "cell_type": "markdown",
   "metadata": {},
   "source": [
    "## Appendix Code"
   ]
  },
  {
   "cell_type": "code",
   "execution_count": 7,
   "metadata": {},
   "outputs": [],
   "source": [
    "from typing import TypeVar\n",
    "\n",
    "S = TypeVar('S')\n",
    "A = TypeVar('A')"
   ]
  },
  {
   "cell_type": "code",
   "execution_count": 8,
   "metadata": {},
   "outputs": [],
   "source": [
    "from typing import NamedTuple, Any, Dict, Tuple, Set, Union\n",
    "import numpy as np\n",
    "\n",
    "class MDP(NamedTuple):\n",
    "    States: Set[S]\n",
    "    # the transitions depend on s, a, and s'\n",
    "    # mapping from a state to a mapping of an action to a mapping of a state to a float (probability)\n",
    "    P: Dict[S, Dict[A, Dict[S, float]]]\n",
    "    Actions: A\n",
    "    # reward is a function of the current state,  and the action\n",
    "    R: Union[Dict[S, Dict[A, float]], Dict[S, Dict[A, Dict[S, float]]]]\n",
    "    gamma: float\n",
    "\n",
    "        \n",
    "class Policy(NamedTuple):\n",
    "    # state to action to a probability\n",
    "    pi: Dict[S, Dict[A, float]]\n",
    "        \n",
    "\n",
    "class state_value_function(NamedTuple):\n",
    "    vf: Dict[S,  float]\n",
    "        \n",
    "        \n",
    "class action_value_function(NamedTuple):\n",
    "    vf: Dict[S, Dict[A, float]]"
   ]
  },
  {
   "cell_type": "code",
   "execution_count": 174,
   "metadata": {},
   "outputs": [],
   "source": [
    "def async_value_iter(mdp: MDP, n_iter: int) -> state_value_function:\n",
    "    # implementation of value iteration, the code is very similar to that of policy iteration\n",
    "    # the difference is what kind of information we store\n",
    "    v = {s: 0. for s in mdp.States}\n",
    "    pi = {s: None for s in mdp.P}\n",
    "    \n",
    "    for i in range(n_iter):\n",
    "        # do asynchronous value iteration\n",
    "        for s in mdp.P:\n",
    "            # variable to store the best value when looping over the actions\n",
    "            best_value = -1000000\n",
    "            best_a = None\n",
    "            for a in mdp.P[s]:\n",
    "                # variable for storing the value for action a\n",
    "                value = mdp.R[s][a]\n",
    "                for sp in mdp.P[s][a]:\n",
    "                    value += mdp.gamma * mdp.P[s][a][sp] * v[sp]\n",
    "                if value > best_value:\n",
    "                    best_value = value\n",
    "                    best_a = a\n",
    "            # store the best value\n",
    "            v[s] = best_value\n",
    "            pi[s] = best_a\n",
    "    return v, pi"
   ]
  },
  {
   "cell_type": "code",
   "execution_count": 160,
   "metadata": {},
   "outputs": [],
   "source": [
    "def policy_eval(mdp: MDP, policy: Policy, n_iter: int) -> state_value_function:\n",
    "    # implementation of policy evaluation\n",
    "    # asynchrounous version\n",
    "    vf = {s: 0. for s in mdp.States}\n",
    "    \n",
    "    for i in range(n_iter):\n",
    "        for s in mdp.P:\n",
    "            vf[s] = 0\n",
    "            for a in mdp.P[s]:\n",
    "                vf[s] += policy[s][a]*mdp.R[s][a]\n",
    "                for sp in mdp.P[s][a]:\n",
    "                    vf[s] += policy[s][a]*mdp.gamma*mdp.P[s][a][sp]*vf[sp]\n",
    "\n",
    "    return vf"
   ]
  },
  {
   "cell_type": "code",
   "execution_count": 163,
   "metadata": {},
   "outputs": [],
   "source": [
    "def policy_iter(mdp: MDP, policy: Policy, n_iter: int) -> Policy:\n",
    "    for i in range(n_iter):\n",
    "        new_policy = policy\n",
    "        v = policy_eval(mdp, policy, n_iter)\n",
    "        for s in mdp.P:\n",
    "            best_value = -1000000\n",
    "            best_a: A\n",
    "            for a in mdp.P[s]:\n",
    "                # reinitialize the new policy\n",
    "                new_policy[s][a] = 0.\n",
    "                value = mdp.R[s][a]\n",
    "                for sp in mdp.P[s][a]:\n",
    "                    value += mdp.gamma*mdp.P[s][a][sp]*v[sp]\n",
    "                if value > best_value:\n",
    "                    best_value = value\n",
    "                    best_a = a\n",
    "            # make the policy deterministic\n",
    "            new_policy[s][best_a] = 1.0\n",
    "                    \n",
    "        policy = new_policy\n",
    "    return policy"
   ]
  },
  {
   "cell_type": "code",
   "execution_count": null,
   "metadata": {},
   "outputs": [],
   "source": []
  }
 ],
 "metadata": {
  "kernelspec": {
   "display_name": "Python 3",
   "language": "python",
   "name": "python3"
  },
  "language_info": {
   "codemirror_mode": {
    "name": "ipython",
    "version": 3
   },
   "file_extension": ".py",
   "mimetype": "text/x-python",
   "name": "python",
   "nbconvert_exporter": "python",
   "pygments_lexer": "ipython3",
   "version": "3.6.4"
  }
 },
 "nbformat": 4,
 "nbformat_minor": 2
}
