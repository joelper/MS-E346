{
 "cells": [
  {
   "cell_type": "markdown",
   "metadata": {},
   "source": [
    "# Write-up and code for February 1\n",
    "\n",
    "### To Do\n",
    "- Work out (in LaTeX) the solution to the Linear Impact model we covered in class\n",
    "- Model a real-world Optimal Trade Order Execution problem as an MDP (with complete order book included in the State)"
   ]
  },
  {
   "cell_type": "markdown",
   "metadata": {},
   "source": [
    "## Optimal Trade Order Execution\n",
    "Our task is to sell a large number $N$ of shares, this task must be done within $T$ discrete time steps. Our goal is to maximize Expected Total Utility of Sales Proceeds, where we need to account for both a temporary and a permanent price impact from our market orders. This is a Dynamic Optimization problem that can be modeled as an MDP.\n",
    "- We have $T$ time steps indexed by $t=1,...,T$\n",
    "- $P_t$ denotes Bid PRice at start of time step $t$\n",
    "- $N_t$ denotes number of shares sold in time step $t$\n",
    "$R_t = N - \\sum_{i=1}^{t-1}N_i$ denotes the number of shares remaining to be sold at start of time step $t$. Easy to see that $R_1 = N, N_T = R_T$\n",
    "-  Price Dynamics are given by $$P_{t+1} = f_t(P_t, N_t, \\epsilon_t)$$ where $F_t(\\cdot)$ is an arbitrary function representing permanent price impact\n",
    "- Sales proceeds in time step $t$ is defined as $$N_t\\cdot Q_t = N_t \\cdot (P_t - g_t(P_t, N-T))$$ where $g_t(\\cdot)$ is an arbitrary function representing temporary price impact\n",
    "- Utility of Sales Proceeds function denoted as $U(\\cdot)$\n",
    "\n",
    "We can formulate this as an MDP:\n",
    "- The State is a a tuple of $\\langle t,P_t, R_t\\rangle $, where $1\\leq t\\leq T$\n",
    "- Perform Action $N_t$\n",
    "- Receive Reward $U(N_t\\cdot Q_t) = U(N_t\\cdot (P_t-g_t(P_t,N_t)))$\n",
    "- Experience price dynamics $P_{t+1} = F_t(P_t, N_t, \\epsilon_t)$\n",
    "\n",
    "Now we need to make assumptions about the underlying structure of the price dynamics. Consider a simple model with a Linear Price Impact:\n",
    "- Where $N, N_t, P_t \\in \\mathbb R$\n",
    "- Let $P_{t+1} = P_t - \\alpha N_t + \\epsilon_t$ where $\\alpha \\in \\mathbb R^+$\n",
    "- The r.v. $\\epsilon_t$ is i.i.d. with $\\mathbb E[\\epsilon_t|N_t,P_t] = 0$\n",
    "- Temporary price impact is given by $\\beta N_t$, so $Q_t = P_t - \\beta N_t$ where $\\beta \\in \\mathbb R^+$\n",
    "- the utility function is the identity function, meaning that we have no. risk-aversion\n",
    "- MDP Discount factor $\\gamma = 1$"
   ]
  },
  {
   "cell_type": "code",
   "execution_count": null,
   "metadata": {},
   "outputs": [],
   "source": []
  }
 ],
 "metadata": {
  "kernelspec": {
   "display_name": "Python 3",
   "language": "python",
   "name": "python3"
  },
  "language_info": {
   "codemirror_mode": {
    "name": "ipython",
    "version": 3
   },
   "file_extension": ".py",
   "mimetype": "text/x-python",
   "name": "python",
   "nbconvert_exporter": "python",
   "pygments_lexer": "ipython3",
   "version": "3.6.4"
  }
 },
 "nbformat": 4,
 "nbformat_minor": 2
}
